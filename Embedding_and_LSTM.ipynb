{
  "nbformat": 4,
  "nbformat_minor": 0,
  "metadata": {
    "kernelspec": {
      "display_name": "Python 3",
      "language": "python",
      "name": "python3"
    },
    "language_info": {
      "codemirror_mode": {
        "name": "ipython",
        "version": 3
      },
      "file_extension": ".py",
      "mimetype": "text/x-python",
      "name": "python",
      "nbconvert_exporter": "python",
      "pygments_lexer": "ipython3",
      "version": "3.7.4"
    },
    "colab": {
      "name": "Embedding_and_LSTM.ipynb",
      "provenance": []
    }
  },
  "cells": [
    {
      "cell_type": "markdown",
      "metadata": {
        "id": "hwncu9m7XkmE"
      },
      "source": [
        "## Importing libraries"
      ]
    },
    {
      "cell_type": "code",
      "metadata": {
        "id": "kqJkQQgqXkmE"
      },
      "source": [
        "import string\n",
        "import numpy as np\n",
        "import matplotlib.pyplot as plt\n",
        "import pandas as pd\n",
        "\n",
        "import time\n",
        "\n",
        "## import modules for NLP\n",
        "import nltk\n",
        "from nltk.corpus import stopwords\n",
        "\n",
        "## import the modules for train & test data\n",
        "from sklearn.model_selection import train_test_split \n",
        "from sklearn.metrics import accuracy_score\n",
        "\n",
        "## word2vec with gensim; press pip install -U gensim before importing\n",
        "import gensim"
      ],
      "execution_count": null,
      "outputs": []
    },
    {
      "cell_type": "markdown",
      "metadata": {
        "id": "ioHdxxgfXkmE"
      },
      "source": [
        "## Loading the data and adding two additional features Text length and Number of words"
      ]
    },
    {
      "cell_type": "code",
      "metadata": {
        "id": "rSEdTnq4XkmE",
        "outputId": "97b914a4-396f-48da-a018-4608c0bfaf40"
      },
      "source": [
        "train_df = pd.read_csv('train.csv', usecols = [\"text\", \"target\"])\n",
        "test_df = pd.read_csv('test.csv', usecols = [\"id\", \"text\"])\n",
        "\n",
        "print(\"col_names : \" + train_df.columns)\n",
        "print('\\n')\n",
        "print(\"Data-dimensions:\" + '\\t' + str(train_df.shape))\n",
        "print('\\n')\n",
        "print(\"Count the not-null values of each features: \\n\" + str(train_df.notnull().sum()))\n",
        "\n",
        "train_df.drop_duplicates(inplace = True)\n",
        "print(\"The new dimension after checking duplicate & removing is:\\t\" + str(train_df.shape))\n",
        "\n",
        "train_df['Text_length'] = train_df['text'].str.len()\n",
        "train_df['Numb_words'] = train_df['text'].str.split().map(lambda x: len(x))\n",
        "\n",
        "test_df['Text_length'] = test_df['text'].str.len()\n",
        "test_df['Numb_words'] = test_df['text'].str.split().map(lambda x: len(x))\n",
        "train_df.head()"
      ],
      "execution_count": null,
      "outputs": [
        {
          "output_type": "stream",
          "text": [
            "Index(['col_names : text', 'col_names : target'], dtype='object')\n",
            "\n",
            "\n",
            "Data-dimensions:\t(7613, 2)\n",
            "\n",
            "\n",
            "Count the not-null values of each features: \n",
            "text      7613\n",
            "target    7613\n",
            "dtype: int64\n",
            "The new dimension after checking duplicate & removing is:\t(7521, 2)\n"
          ],
          "name": "stdout"
        },
        {
          "output_type": "execute_result",
          "data": {
            "text/html": [
              "<div>\n",
              "<style scoped>\n",
              "    .dataframe tbody tr th:only-of-type {\n",
              "        vertical-align: middle;\n",
              "    }\n",
              "\n",
              "    .dataframe tbody tr th {\n",
              "        vertical-align: top;\n",
              "    }\n",
              "\n",
              "    .dataframe thead th {\n",
              "        text-align: right;\n",
              "    }\n",
              "</style>\n",
              "<table border=\"1\" class=\"dataframe\">\n",
              "  <thead>\n",
              "    <tr style=\"text-align: right;\">\n",
              "      <th></th>\n",
              "      <th>text</th>\n",
              "      <th>target</th>\n",
              "      <th>Text_length</th>\n",
              "      <th>Numb_words</th>\n",
              "    </tr>\n",
              "  </thead>\n",
              "  <tbody>\n",
              "    <tr>\n",
              "      <td>0</td>\n",
              "      <td>Our Deeds are the Reason of this #earthquake M...</td>\n",
              "      <td>1</td>\n",
              "      <td>69</td>\n",
              "      <td>13</td>\n",
              "    </tr>\n",
              "    <tr>\n",
              "      <td>1</td>\n",
              "      <td>Forest fire near La Ronge Sask. Canada</td>\n",
              "      <td>1</td>\n",
              "      <td>38</td>\n",
              "      <td>7</td>\n",
              "    </tr>\n",
              "    <tr>\n",
              "      <td>2</td>\n",
              "      <td>All residents asked to 'shelter in place' are ...</td>\n",
              "      <td>1</td>\n",
              "      <td>133</td>\n",
              "      <td>22</td>\n",
              "    </tr>\n",
              "    <tr>\n",
              "      <td>3</td>\n",
              "      <td>13,000 people receive #wildfires evacuation or...</td>\n",
              "      <td>1</td>\n",
              "      <td>65</td>\n",
              "      <td>8</td>\n",
              "    </tr>\n",
              "    <tr>\n",
              "      <td>4</td>\n",
              "      <td>Just got sent this photo from Ruby #Alaska as ...</td>\n",
              "      <td>1</td>\n",
              "      <td>88</td>\n",
              "      <td>16</td>\n",
              "    </tr>\n",
              "  </tbody>\n",
              "</table>\n",
              "</div>"
            ],
            "text/plain": [
              "                                                text  target  Text_length  \\\n",
              "0  Our Deeds are the Reason of this #earthquake M...       1           69   \n",
              "1             Forest fire near La Ronge Sask. Canada       1           38   \n",
              "2  All residents asked to 'shelter in place' are ...       1          133   \n",
              "3  13,000 people receive #wildfires evacuation or...       1           65   \n",
              "4  Just got sent this photo from Ruby #Alaska as ...       1           88   \n",
              "\n",
              "   Numb_words  \n",
              "0          13  \n",
              "1           7  \n",
              "2          22  \n",
              "3           8  \n",
              "4          16  "
            ]
          },
          "metadata": {
            "tags": []
          },
          "execution_count": 2
        }
      ]
    },
    {
      "cell_type": "code",
      "metadata": {
        "id": "lCRfhWJLXkmF",
        "outputId": "45635e57-7ff8-4eeb-81d5-e7858402d9bb"
      },
      "source": [
        "test_df.head()"
      ],
      "execution_count": null,
      "outputs": [
        {
          "output_type": "execute_result",
          "data": {
            "text/html": [
              "<div>\n",
              "<style scoped>\n",
              "    .dataframe tbody tr th:only-of-type {\n",
              "        vertical-align: middle;\n",
              "    }\n",
              "\n",
              "    .dataframe tbody tr th {\n",
              "        vertical-align: top;\n",
              "    }\n",
              "\n",
              "    .dataframe thead th {\n",
              "        text-align: right;\n",
              "    }\n",
              "</style>\n",
              "<table border=\"1\" class=\"dataframe\">\n",
              "  <thead>\n",
              "    <tr style=\"text-align: right;\">\n",
              "      <th></th>\n",
              "      <th>id</th>\n",
              "      <th>text</th>\n",
              "      <th>Text_length</th>\n",
              "      <th>Numb_words</th>\n",
              "    </tr>\n",
              "  </thead>\n",
              "  <tbody>\n",
              "    <tr>\n",
              "      <td>0</td>\n",
              "      <td>0</td>\n",
              "      <td>Just happened a terrible car crash</td>\n",
              "      <td>34</td>\n",
              "      <td>6</td>\n",
              "    </tr>\n",
              "    <tr>\n",
              "      <td>1</td>\n",
              "      <td>2</td>\n",
              "      <td>Heard about #earthquake is different cities, s...</td>\n",
              "      <td>64</td>\n",
              "      <td>9</td>\n",
              "    </tr>\n",
              "    <tr>\n",
              "      <td>2</td>\n",
              "      <td>3</td>\n",
              "      <td>there is a forest fire at spot pond, geese are...</td>\n",
              "      <td>96</td>\n",
              "      <td>19</td>\n",
              "    </tr>\n",
              "    <tr>\n",
              "      <td>3</td>\n",
              "      <td>9</td>\n",
              "      <td>Apocalypse lighting. #Spokane #wildfires</td>\n",
              "      <td>40</td>\n",
              "      <td>4</td>\n",
              "    </tr>\n",
              "    <tr>\n",
              "      <td>4</td>\n",
              "      <td>11</td>\n",
              "      <td>Typhoon Soudelor kills 28 in China and Taiwan</td>\n",
              "      <td>45</td>\n",
              "      <td>8</td>\n",
              "    </tr>\n",
              "  </tbody>\n",
              "</table>\n",
              "</div>"
            ],
            "text/plain": [
              "   id                                               text  Text_length  \\\n",
              "0   0                 Just happened a terrible car crash           34   \n",
              "1   2  Heard about #earthquake is different cities, s...           64   \n",
              "2   3  there is a forest fire at spot pond, geese are...           96   \n",
              "3   9           Apocalypse lighting. #Spokane #wildfires           40   \n",
              "4  11      Typhoon Soudelor kills 28 in China and Taiwan           45   \n",
              "\n",
              "   Numb_words  \n",
              "0           6  \n",
              "1           9  \n",
              "2          19  \n",
              "3           4  \n",
              "4           8  "
            ]
          },
          "metadata": {
            "tags": []
          },
          "execution_count": 3
        }
      ]
    },
    {
      "cell_type": "markdown",
      "metadata": {
        "id": "JVvl1cgdXkmF"
      },
      "source": [
        "## Preprocessing the data"
      ]
    },
    {
      "cell_type": "code",
      "metadata": {
        "id": "UTJEYxBpXkmF",
        "outputId": "1c0ff83c-8f27-441b-f5d6-5351c8348fb1"
      },
      "source": [
        "from sklearn.feature_extraction.text import CountVectorizer\n",
        "from sklearn.feature_extraction.text import TfidfVectorizer\n",
        "from tensorflow.keras.preprocessing.sequence import pad_sequences\n",
        "from keras.layers.embeddings import Embedding\n",
        "from tensorflow.keras.preprocessing.text import Tokenizer\n",
        "from sklearn.metrics import classification_report, confusion_matrix\n",
        "from keras.preprocessing.text import one_hot\n"
      ],
      "execution_count": null,
      "outputs": [
        {
          "output_type": "stream",
          "text": [
            "Using TensorFlow backend.\n"
          ],
          "name": "stderr"
        }
      ]
    },
    {
      "cell_type": "code",
      "metadata": {
        "id": "oGFjNQJLXkmF"
      },
      "source": [
        "y = train_df.target.to_numpy()\n",
        "X = train_df[['text', 'Text_length']]"
      ],
      "execution_count": null,
      "outputs": []
    },
    {
      "cell_type": "code",
      "metadata": {
        "id": "O8_TlXYxXkmG",
        "outputId": "217968a5-dfcf-4d1a-9171-0eada635dcc1"
      },
      "source": [
        "# Word2vec model for embeddings  \n",
        "from gensim.models import Word2Vec\n",
        "# For extracting pre-trained vectors  \n",
        "from gensim.models import KeyedVectors\n",
        "# PCA for dimensionality reduction\n",
        "from sklearn.decomposition import PCA\n",
        "\n",
        "import re  # For preprocessing\n",
        "#import spacy  # For preprocessing\n",
        "\n",
        "from time import time  # To time our operations\n",
        "from collections import defaultdict  # For word frequency\n",
        "\n",
        "from keras.layers import Embedding, LSTM, Dense, SpatialDropout1D\n",
        "from keras.initializers import Constant\n",
        "from sklearn.model_selection import train_test_split\n",
        "from keras.optimizers import Adam\n",
        "\n",
        "sentences = train_df['text']\n",
        "\n",
        "from tqdm import tqdm\n",
        "\n",
        "\n",
        "from nltk.tokenize import word_tokenize\n",
        "\n",
        "stop = set(stopwords.words('english'))\n",
        "\n",
        "def create_corpus(data):\n",
        "    corpus=[]\n",
        "    for tweet in tqdm(data['text']):\n",
        "        words = [word.lower() for word in word_tokenize(tweet) if((word.isalpha()==1) & (word not in stop))]\n",
        "        corpus.append(words)\n",
        "    return corpus\n",
        "\n",
        "corpus=create_corpus(train_df)"
      ],
      "execution_count": null,
      "outputs": [
        {
          "output_type": "stream",
          "text": [
            "100%|██████████| 7521/7521 [00:01<00:00, 5136.89it/s]\n"
          ],
          "name": "stderr"
        }
      ]
    },
    {
      "cell_type": "code",
      "metadata": {
        "id": "qZdmw73eXkmG"
      },
      "source": [
        "MAX_LEN = 32\n",
        "tokenizer_obj=Tokenizer()\n",
        "tokenizer_obj.fit_on_texts(corpus)\n",
        "sequences=tokenizer_obj.texts_to_sequences(corpus)\n",
        "\n",
        "tweet_pad=pad_sequences(sequences,maxlen=MAX_LEN,truncating='post',padding='post')"
      ],
      "execution_count": null,
      "outputs": []
    },
    {
      "cell_type": "code",
      "metadata": {
        "id": "OcjnGeRhXkmG",
        "outputId": "eb5a454b-5ec3-49e6-b9eb-a9e5517ca09a"
      },
      "source": [
        "word_index = tokenizer_obj.word_index\n",
        "print('Number of unique words:',len(word_index))"
      ],
      "execution_count": null,
      "outputs": [
        {
          "output_type": "stream",
          "text": [
            "Number of unique words: 15015\n"
          ],
          "name": "stdout"
        }
      ]
    },
    {
      "cell_type": "code",
      "metadata": {
        "id": "cv5hajayXkmG"
      },
      "source": [
        "embedding_dict={}\n",
        "with open('glove.6B.100d.txt', 'r', encoding='utf8', errors='ignore') as f:\n",
        "    for line in f:\n",
        "        values = line.split()\n",
        "        word = values[0]\n",
        "        vectors = np.asarray(values[1:], 'float32')\n",
        "        embedding_dict[word]=vectors\n",
        "f.close()"
      ],
      "execution_count": null,
      "outputs": []
    },
    {
      "cell_type": "code",
      "metadata": {
        "id": "hc1B8OSXXkmG",
        "outputId": "83258c28-7a09-40ed-c6ee-43839e5d1ef4"
      },
      "source": [
        "num_words = len(word_index)+1\n",
        "embedding_matrix = np.zeros((num_words, 100))\n",
        "\n",
        "for word,i in tqdm(word_index.items()):\n",
        "    if i > num_words:\n",
        "        continue\n",
        "    \n",
        "    emb_vec=embedding_dict.get(word)\n",
        "    if emb_vec is not None:\n",
        "        embedding_matrix[i] = emb_vec"
      ],
      "execution_count": null,
      "outputs": [
        {
          "output_type": "stream",
          "text": [
            "100%|██████████| 15015/15015 [00:00<00:00, 546812.37it/s]\n"
          ],
          "name": "stderr"
        }
      ]
    },
    {
      "cell_type": "code",
      "metadata": {
        "id": "5d7UMBK4XkmG",
        "outputId": "9706c601-236d-4b53-8b7e-1cfda329af90"
      },
      "source": [
        "X_train, X_test,y_train,y_test = train_test_split(tweet_pad, y, test_size = 0.25)\n",
        "print('Shape of train', X_train.shape)\n",
        "print(\"Shape of Validation \", X_test.shape)"
      ],
      "execution_count": null,
      "outputs": [
        {
          "output_type": "stream",
          "text": [
            "Shape of train (5640, 32)\n",
            "Shape of Validation  (1881, 32)\n"
          ],
          "name": "stdout"
        }
      ]
    },
    {
      "cell_type": "markdown",
      "metadata": {
        "id": "Td10YqeIXkmG"
      },
      "source": [
        "## Building and training the model"
      ]
    },
    {
      "cell_type": "code",
      "metadata": {
        "id": "fF9A3dxqXkmG",
        "outputId": "fd64ffbb-3f96-481f-9345-cae76837a744"
      },
      "source": [
        "from tensorflow import keras\n",
        "from tensorflow.keras import layers\n",
        "from keras import layers\n",
        "from keras.models import Sequential\n",
        "from keras.layers import Flatten\n",
        "from keras.layers import Dense, Dropout, Activation, Conv1D, GlobalMaxPooling1D, MaxPooling1D\n",
        "\n",
        "model=Sequential()\n",
        "\n",
        "embedding=Embedding(num_words, 100, embeddings_initializer=Constant(embedding_matrix),\n",
        "                   input_length=MAX_LEN,trainable=False)\n",
        "\n",
        "model.add(embedding)\n",
        "model.add(SpatialDropout1D(0.1))\n",
        "model.add(LSTM(64, dropout=0.1, recurrent_dropout=0.1))\n",
        "model.add(Dense(1, activation='sigmoid'))\n",
        "model.compile(loss='binary_crossentropy',optimizer='adam',metrics=['accuracy'])\n",
        "model.summary()"
      ],
      "execution_count": null,
      "outputs": [
        {
          "output_type": "stream",
          "text": [
            "Model: \"sequential_1\"\n",
            "_________________________________________________________________\n",
            "Layer (type)                 Output Shape              Param #   \n",
            "=================================================================\n",
            "embedding_1 (Embedding)      (None, 32, 100)           1501600   \n",
            "_________________________________________________________________\n",
            "spatial_dropout1d_1 (Spatial (None, 32, 100)           0         \n",
            "_________________________________________________________________\n",
            "lstm_1 (LSTM)                (None, 64)                42240     \n",
            "_________________________________________________________________\n",
            "dense_1 (Dense)              (None, 1)                 65        \n",
            "=================================================================\n",
            "Total params: 1,543,905\n",
            "Trainable params: 42,305\n",
            "Non-trainable params: 1,501,600\n",
            "_________________________________________________________________\n"
          ],
          "name": "stdout"
        }
      ]
    },
    {
      "cell_type": "code",
      "metadata": {
        "id": "0CBsnl78XkmH",
        "outputId": "a003080e-8a55-4430-e890-f23adb9a8c6b"
      },
      "source": [
        "history = model.fit(X_train, y_train, batch_size = 128, epochs = 20, validation_data = (X_test, y_test), verbose=2)"
      ],
      "execution_count": null,
      "outputs": [
        {
          "output_type": "stream",
          "text": [
            "Train on 5640 samples, validate on 1881 samples\n",
            "Epoch 1/20\n",
            " - 2s - loss: 0.6034 - accuracy: 0.6730 - val_loss: 0.4866 - val_accuracy: 0.7911\n",
            "Epoch 2/20\n",
            " - 1s - loss: 0.4881 - accuracy: 0.7830 - val_loss: 0.4491 - val_accuracy: 0.8022\n",
            "Epoch 3/20\n",
            " - 1s - loss: 0.4715 - accuracy: 0.7945 - val_loss: 0.4435 - val_accuracy: 0.8070\n",
            "Epoch 4/20\n",
            " - 1s - loss: 0.4600 - accuracy: 0.7943 - val_loss: 0.4431 - val_accuracy: 0.7990\n",
            "Epoch 5/20\n",
            " - 1s - loss: 0.4480 - accuracy: 0.8007 - val_loss: 0.4379 - val_accuracy: 0.8060\n",
            "Epoch 6/20\n",
            " - 1s - loss: 0.4448 - accuracy: 0.8090 - val_loss: 0.4309 - val_accuracy: 0.8049\n",
            "Epoch 7/20\n",
            " - 1s - loss: 0.4447 - accuracy: 0.8053 - val_loss: 0.4305 - val_accuracy: 0.8081\n",
            "Epoch 8/20\n",
            " - 1s - loss: 0.4326 - accuracy: 0.8073 - val_loss: 0.4330 - val_accuracy: 0.8017\n",
            "Epoch 9/20\n",
            " - 1s - loss: 0.4241 - accuracy: 0.8160 - val_loss: 0.4376 - val_accuracy: 0.8054\n",
            "Epoch 10/20\n",
            " - 1s - loss: 0.4242 - accuracy: 0.8140 - val_loss: 0.4278 - val_accuracy: 0.8075\n",
            "Epoch 11/20\n",
            " - 1s - loss: 0.4220 - accuracy: 0.8145 - val_loss: 0.4282 - val_accuracy: 0.8102\n",
            "Epoch 12/20\n",
            " - 1s - loss: 0.4162 - accuracy: 0.8190 - val_loss: 0.4297 - val_accuracy: 0.8097\n",
            "Epoch 13/20\n",
            " - 1s - loss: 0.4167 - accuracy: 0.8188 - val_loss: 0.4390 - val_accuracy: 0.8049\n",
            "Epoch 14/20\n",
            " - 1s - loss: 0.4056 - accuracy: 0.8280 - val_loss: 0.4290 - val_accuracy: 0.8097\n",
            "Epoch 15/20\n",
            " - 1s - loss: 0.4035 - accuracy: 0.8277 - val_loss: 0.4253 - val_accuracy: 0.8086\n",
            "Epoch 16/20\n",
            " - 2s - loss: 0.3969 - accuracy: 0.8296 - val_loss: 0.4414 - val_accuracy: 0.8102\n",
            "Epoch 17/20\n",
            " - 2s - loss: 0.3886 - accuracy: 0.8342 - val_loss: 0.4292 - val_accuracy: 0.8145\n",
            "Epoch 18/20\n",
            " - 2s - loss: 0.3881 - accuracy: 0.8385 - val_loss: 0.4376 - val_accuracy: 0.8075\n",
            "Epoch 19/20\n",
            " - 3s - loss: 0.3841 - accuracy: 0.8369 - val_loss: 0.4280 - val_accuracy: 0.8123\n",
            "Epoch 20/20\n",
            " - 2s - loss: 0.3783 - accuracy: 0.8383 - val_loss: 0.4366 - val_accuracy: 0.8107\n"
          ],
          "name": "stdout"
        }
      ]
    },
    {
      "cell_type": "markdown",
      "metadata": {
        "id": "zPFRTkyQXkmH"
      },
      "source": [
        "## Evaluating the model"
      ]
    },
    {
      "cell_type": "code",
      "metadata": {
        "id": "5xjij_CMXkmH",
        "outputId": "41ab759f-a4e5-4edc-d9c2-4ca7cc03fbbe"
      },
      "source": [
        "score, tr_acc = model.evaluate(X_train, y_train)\n",
        "score, t_acc = model.evaluate(X_test, y_test)\n",
        "\n",
        "print('Train accuracy:', tr_acc)\n",
        "print('Test accuracy:', t_acc)"
      ],
      "execution_count": null,
      "outputs": [
        {
          "output_type": "stream",
          "text": [
            "5640/5640 [==============================] - 1s 134us/step\n",
            "1881/1881 [==============================] - 0s 153us/step\n",
            "Train accuracy: 0.8666666746139526\n",
            "Test accuracy: 0.8107389807701111\n"
          ],
          "name": "stdout"
        }
      ]
    },
    {
      "cell_type": "code",
      "metadata": {
        "id": "b-YuRfOGXkmH",
        "outputId": "0dcf3de8-94fc-4d8d-abf7-8ace613cf54e"
      },
      "source": [
        "plt.plot(history.history['accuracy'])\n",
        "plt.plot(history.history['val_accuracy'])\n",
        "\n",
        "plt.title('model accuracy')\n",
        "plt.ylabel('accuracy')\n",
        "plt.xlabel('epoch')\n",
        "plt.legend(['train','test'], loc='upper left')\n",
        "plt.show()\n",
        "\n",
        "plt.plot(history.history['loss'])\n",
        "plt.plot(history.history['val_loss'])\n",
        "\n",
        "plt.title('model loss')\n",
        "plt.ylabel('loss')\n",
        "plt.xlabel('epoch')\n",
        "plt.legend(['train','test'], loc='upper left')\n",
        "plt.show()"
      ],
      "execution_count": null,
      "outputs": [
        {
          "output_type": "display_data",
          "data": {
            "image/png": "[encoded data removed]",
            "text/plain": [
              "<Figure size 432x288 with 1 Axes>"
            ]
          },
          "metadata": {
            "tags": [],
            "needs_background": "light"
          }
        },
        {
          "output_type": "display_data",
          "data": {
            "image/png": "[encoded data removed]",
            "text/plain": [
              "<Figure size 432x288 with 1 Axes>"
            ]
          },
          "metadata": {
            "tags": [],
            "needs_background": "light"
          }
        }
      ]
    }
  ]
}